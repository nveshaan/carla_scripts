{
 "cells": [
  {
   "cell_type": "code",
   "execution_count": 1,
   "id": "f8caa1ea",
   "metadata": {},
   "outputs": [],
   "source": [
    "import h5py\n",
    "import numpy as np\n",
    "import matplotlib.pyplot as plt"
   ]
  },
  {
   "cell_type": "code",
   "execution_count": 2,
   "id": "5dbf5c7a",
   "metadata": {},
   "outputs": [],
   "source": [
    "file_path = 'D:/marathon.hdf5'\n",
    "file = h5py.File(file_path, 'r')"
   ]
  },
  {
   "cell_type": "code",
   "execution_count": 3,
   "id": "e53c6736",
   "metadata": {},
   "outputs": [],
   "source": [
    "runs = file['runs']\n",
    "\n",
    "# images = []\n",
    "# velocities = []\n",
    "# locations = []\n",
    "commands = []\n",
    "\n",
    "for run in runs:\n",
    "    # images.append(file['runs'][run]['vehicles']['0']['image'][:])\n",
    "    # velocities.append(file['runs'][run]['vehicles']['0']['velocity'][:])\n",
    "    # locations.append(file['runs'][run]['vehicles']['0']['location'][:])\n",
    "    commands.append(file['runs'][run]['vehicles']['0']['command'][:])\n",
    "\n",
    "# images = np.array(images)\n",
    "# velocities = np.array(velocities)\n",
    "# locations = np.array(locations)\n",
    "commands = np.array(commands)"
   ]
  },
  {
   "cell_type": "code",
   "execution_count": 7,
   "id": "3ecba33a",
   "metadata": {},
   "outputs": [],
   "source": [
    "command_count = np.zeros(7)\n",
    "\n",
    "for command in commands:\n",
    "    if command[0] == -1:\n",
    "        command_count[0] += 1\n",
    "    else:\n",
    "        command_count[command[0]] += 1"
   ]
  },
  {
   "cell_type": "code",
   "execution_count": 8,
   "id": "573d6ec5",
   "metadata": {},
   "outputs": [
    {
     "data": {
      "text/plain": [
       "Text(0.5, 1.0, 'Command Distribution')"
      ]
     },
     "execution_count": 8,
     "metadata": {},
     "output_type": "execute_result"
    },
    {
     "data": {
      "image/png": "[encoded data removed]",
      "text/plain": [
       "<Figure size 640x480 with 1 Axes>"
      ]
     },
     "metadata": {},
     "output_type": "display_data"
    }
   ],
   "source": [
    "plt.bar(range(7), command_count)\n",
    "plt.xlabel('Command')\n",
    "plt.ylabel('Count')\n",
    "plt.title('Command Distribution')"
   ]
  },
  {
   "cell_type": "code",
   "execution_count": 9,
   "id": "2587ecad",
   "metadata": {},
   "outputs": [],
   "source": [
    "file.close()"
   ]
  }
 ],
 "metadata": {
  "kernelspec": {
   "display_name": "Python 3",
   "language": "python",
   "name": "python3"
  },
  "language_info": {
   "codemirror_mode": {
    "name": "ipython",
    "version": 3
   },
   "file_extension": ".py",
   "mimetype": "text/x-python",
   "name": "python",
   "nbconvert_exporter": "python",
   "pygments_lexer": "ipython3",
   "version": "3.9.0"
  }
 },
 "nbformat": 4,
 "nbformat_minor": 5
}
