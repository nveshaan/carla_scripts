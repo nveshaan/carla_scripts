{
 "cells": [
  {
   "cell_type": "code",
   "execution_count": 1,
   "id": "f8caa1ea",
   "metadata": {},
   "outputs": [],
   "source": [
    "import h5py\n",
    "import numpy as np\n",
    "import matplotlib.pyplot as plt"
   ]
  },
  {
   "cell_type": "code",
   "execution_count": 5,
   "id": "5dbf5c7a",
   "metadata": {},
   "outputs": [],
   "source": [
    "file_path = '../data/good_10_runs_18Jul.hdf5'\n",
    "file = h5py.File(file_path, 'r')"
   ]
  },
  {
   "cell_type": "code",
   "execution_count": null,
   "id": "e53c6736",
   "metadata": {},
   "outputs": [],
   "source": [
    "runs = file['runs']\n",
    "\n",
    "velocities = []\n",
    "locations = []\n",
    "commands = []\n",
    "\n",
    "for run in runs:\n",
    "    velocities.append(file['runs'][run]['vehicles']['0']['velocity'][:])\n",
    "    locations.append(file['runs'][run]['vehicles']['0']['location'][:])\n",
    "    commands.append(file['runs'][run]['vehicles']['0']['command'][:])\n",
    "\n",
    "velocities = np.array(velocities)\n",
    "locations = np.array(locations)\n",
    "commands = np.array(commands)"
   ]
  },
  {
   "cell_type": "code",
   "execution_count": null,
   "id": "3ecba33a",
   "metadata": {},
   "outputs": [],
   "source": [
    "command_count = np.zeros(7)\n",
    "\n",
    "for command in commands:\n",
    "    if command == -1:\n",
    "        command_count[0] += 1\n",
    "    else:\n",
    "        command_count[command] += 1"
   ]
  },
  {
   "cell_type": "code",
   "execution_count": null,
   "id": "573d6ec5",
   "metadata": {},
   "outputs": [],
   "source": [
    "plt.bar(range(7), command_count)\n",
    "plt.xlabel('Command')\n",
    "plt.ylabel('Count')\n",
    "plt.title('Command Distribution')"
   ]
  },
  {
   "cell_type": "code",
   "execution_count": null,
   "id": "2587ecad",
   "metadata": {},
   "outputs": [],
   "source": [
    "file.close()"
   ]
  }
 ],
 "metadata": {
  "kernelspec": {
   "display_name": "Python 3",
   "language": "python",
   "name": "python3"
  },
  "language_info": {
   "codemirror_mode": {
    "name": "ipython",
    "version": 3
   },
   "file_extension": ".py",
   "mimetype": "text/x-python",
   "name": "python",
   "nbconvert_exporter": "python",
   "pygments_lexer": "ipython3",
   "version": "3.10.12"
  }
 },
 "nbformat": 4,
 "nbformat_minor": 5
}
