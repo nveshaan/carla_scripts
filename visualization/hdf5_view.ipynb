{
 "cells": [
  {
   "cell_type": "code",
   "execution_count": 1,
   "id": "530137ff",
   "metadata": {},
   "outputs": [],
   "source": [
    "import h5py"
   ]
  },
  {
   "cell_type": "code",
   "execution_count": 10,
   "id": "1c12509b",
   "metadata": {},
   "outputs": [],
   "source": [
    "f = h5py.File('D:\\\\aggregated_runs.hdf5', 'r')"
   ]
  },
  {
   "cell_type": "code",
   "execution_count": 11,
   "id": "e61a7aa8",
   "metadata": {},
   "outputs": [
    {
     "data": {
      "text/plain": [
       "<HDF5 dataset \"control\": shape (34, 4), type \"<f8\">"
      ]
     },
     "execution_count": 11,
     "metadata": {},
     "output_type": "execute_result"
    }
   ],
   "source": [
    "f['runs']['run_1']['vehicles']['0']['control']"
   ]
  },
  {
   "cell_type": "code",
   "execution_count": 12,
   "id": "799f1b37",
   "metadata": {},
   "outputs": [],
   "source": [
    "f.close()"
   ]
  },
  {
   "cell_type": "code",
   "execution_count": null,
   "id": "cb899d48",
   "metadata": {},
   "outputs": [],
   "source": [
    "good = []\n",
    "for run_no in f['runs']:\n",
    "    control = f['runs'][run_no]['vehicles']['0']['control']\n",
    "    if len(control) == 500:\n",
    "        good.append(run_no)"
   ]
  },
  {
   "cell_type": "code",
   "execution_count": null,
   "id": "6b9eca9e",
   "metadata": {},
   "outputs": [],
   "source": [
    "with h5py.File('D:\\good_10_runs_18Jul.hdf5', 'w') as good_f:\n",
    "    runs_group = good_f.create_group('runs')\n",
    "    for run_no in good:\n",
    "        src = f['runs'][run_no]\n",
    "        run_grp = runs_group.create_group(run_no)\n",
    "        vehicles_grp = run_grp.create_group('vehicles')\n",
    "        # Copy vehicle '0' and its datasets\n",
    "        src_vehicle = src['vehicles']['0']\n",
    "        dst_vehicle = vehicles_grp.create_group('0')\n",
    "        for dset_name in src_vehicle:\n",
    "            src_vehicle.copy(dset_name, dst_vehicle)"
   ]
  },
  {
   "cell_type": "code",
   "execution_count": null,
   "id": "2f33d532",
   "metadata": {},
   "outputs": [],
   "source": [
    "f.close()"
   ]
  }
 ],
 "metadata": {
  "kernelspec": {
   "display_name": "Python 3",
   "language": "python",
   "name": "python3"
  },
  "language_info": {
   "codemirror_mode": {
    "name": "ipython",
    "version": 3
   },
   "file_extension": ".py",
   "mimetype": "text/x-python",
   "name": "python",
   "nbconvert_exporter": "python",
   "pygments_lexer": "ipython3",
   "version": "3.9.0"
  }
 },
 "nbformat": 4,
 "nbformat_minor": 5
}
